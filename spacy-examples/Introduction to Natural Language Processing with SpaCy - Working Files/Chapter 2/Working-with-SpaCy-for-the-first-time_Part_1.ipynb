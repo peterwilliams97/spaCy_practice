{
 "cells": [
  {
   "cell_type": "markdown",
   "metadata": {
    "_datascience": {}
   },
   "source": [
    "### Dependencies for this notebook:\n",
    "* pip install spacy, pandas, matplotlib\n",
    "* python -m spacy.en.download   "
   ]
  },
  {
   "cell_type": "code",
   "execution_count": 1,
   "metadata": {
    "_datascience": {},
    "collapsed": true
   },
   "outputs": [],
   "source": [
    "from IPython.display import SVG, display\n",
    "import spacy\n",
    "import pandas as pd\n",
    "import matplotlib.pyplot as plt\n",
    "from datetime import datetime\n",
    "%matplotlib inline"
   ]
  },
  {
   "cell_type": "code",
   "execution_count": 2,
   "metadata": {
    "_datascience": {},
    "collapsed": true
   },
   "outputs": [],
   "source": [
    "#encode some text as uncode\n",
    "text = u\"I'm executing this code on an Apple Computer.\"\n",
    "\n",
    "#instantiate a language model\n",
    "#to download language model: python -m spacy.en.download \n",
    "nlp = spacy.load('en') # or spacy.en.English()\n",
    "\n",
    "#create a document\n",
    "document = nlp(text)"
   ]
  },
  {
   "cell_type": "code",
   "execution_count": 3,
   "metadata": {
    "_datascience": {},
    "collapsed": false
   },
   "outputs": [
    {
     "name": "stdout",
     "output_type": "stream",
     "text": [
      "<spacy.tagger.Tagger object at 0x116f18510>\n",
      "<spacy.pipeline.DependencyParser object at 0x110759f48>\n",
      "<spacy.matcher.Matcher object at 0x110743978>\n",
      "<spacy.pipeline.EntityRecognizer object at 0x116f9d188>\n"
     ]
    }
   ],
   "source": [
    "for function in nlp.pipeline:\n",
    "    print(function)"
   ]
  },
  {
   "cell_type": "code",
   "execution_count": 4,
   "metadata": {
    "_datascience": {},
    "collapsed": false
   },
   "outputs": [
    {
     "name": "stdout",
     "output_type": "stream",
     "text": [
      "<spacy.tagger.Tagger object at 0x11968b5a0>\n",
      "<spacy.pipeline.DependencyParser object at 0x110759e08>\n",
      "<spacy.matcher.Matcher object at 0x1107437b8>\n",
      "<spacy.pipeline.EntityRecognizer object at 0x116f9d368>\n",
      "<function identify_starwars at 0x11075e488>\n"
     ]
    }
   ],
   "source": [
    "### Modifying the Language Model\n",
    "def identify_starwars(doc):\n",
    "    for token in doc:\n",
    "        if token.text == u'starwars':\n",
    "            token.tag_ = u'NNP'\n",
    "\n",
    "def return_pipeline(nlp):\n",
    "    return [nlp.tagger, nlp.parser, nlp.matcher, nlp.entity, identify_starwars]\n",
    "\n",
    "text = u\"I loved all of the starwars movies\"\n",
    "custom_nlp = spacy.load('en', create_pipeline=return_pipeline)\n",
    "new_document = custom_nlp(text)\n",
    "\n",
    "for function in custom_nlp.pipeline:\n",
    "    print(function)"
   ]
  },
  {
   "cell_type": "code",
   "execution_count": 5,
   "metadata": {
    "_datascience": {},
    "collapsed": true
   },
   "outputs": [],
   "source": [
    "texts = [u'You have brains in your head.'] * 10000\n",
    "\n",
    "for doc in nlp.pipe(texts,n_threads=4):\n",
    "    doc.is_parsed"
   ]
  },
  {
   "cell_type": "code",
   "execution_count": 6,
   "metadata": {
    "_datascience": {},
    "collapsed": false
   },
   "outputs": [
    {
     "data": {
      "image/png": "[encoded data removed]",
      "text/plain": [
       "<matplotlib.figure.Figure at 0x104463c18>"
      ]
     },
     "metadata": {},
     "output_type": "display_data"
    }
   ],
   "source": [
    "### Deploying Model on Many Texts with .pipe\n",
    "runtimes = {}\n",
    "\n",
    "for thread_count in [1,2,3,4,8]:\n",
    "    t0 =  datetime.now() \n",
    "    \n",
    "    #Create generator of processed documents\n",
    "    processed_documents = nlp.pipe(texts,n_threads=thread_count)\n",
    "    \n",
    "    #Iterate over generator\n",
    "    for doc in processed_documents: \n",
    "        \n",
    "        #pipeline is only run once we access the generator\n",
    "        doc.is_parsed \n",
    "    \n",
    "    t1 = datetime.now()\n",
    "    runtimes[thread_count] = (t1 - t0).total_seconds()\n",
    "    \n",
    "ax = pd.Series(runtimes).plot(kind = 'bar')\n",
    "ax.set_ylabel(\"Runtime (Seconds) with N Threads\")\n",
    "plt.show()"
   ]
  },
  {
   "cell_type": "markdown",
   "metadata": {
    "_datascience": {}
   },
   "source": [
    "### Accessing Tokens and Spans"
   ]
  },
  {
   "cell_type": "code",
   "execution_count": 8,
   "metadata": {
    "_datascience": {},
    "collapsed": false
   },
   "outputs": [
    {
     "data": {
      "text/html": [
       "<div>\n",
       "<style>\n",
       "    .dataframe thead tr:only-child th {\n",
       "        text-align: right;\n",
       "    }\n",
       "\n",
       "    .dataframe thead th {\n",
       "        text-align: left;\n",
       "    }\n",
       "\n",
       "    .dataframe tbody tr th {\n",
       "        vertical-align: top;\n",
       "    }\n",
       "</style>\n",
       "<table border=\"1\" class=\"dataframe\">\n",
       "  <thead>\n",
       "    <tr style=\"text-align: right;\">\n",
       "      <th></th>\n",
       "      <th>__str__</th>\n",
       "      <th>type</th>\n",
       "    </tr>\n",
       "  </thead>\n",
       "  <tbody>\n",
       "    <tr>\n",
       "      <th>0</th>\n",
       "      <td>spaCy</td>\n",
       "      <td>&lt;class 'spacy.tokens.token.Token'&gt;</td>\n",
       "    </tr>\n",
       "    <tr>\n",
       "      <th>1</th>\n",
       "      <td>spaCy excels at</td>\n",
       "      <td>&lt;class 'spacy.tokens.span.Span'&gt;</td>\n",
       "    </tr>\n",
       "    <tr>\n",
       "      <th>2</th>\n",
       "      <td>spaCy excels at large-scale information extrac...</td>\n",
       "      <td>&lt;class 'spacy.tokens.doc.Doc'&gt;</td>\n",
       "    </tr>\n",
       "  </tbody>\n",
       "</table>\n",
       "</div>"
      ],
      "text/plain": [
       "                                             __str__  \\\n",
       "0                                              spaCy   \n",
       "1                                    spaCy excels at   \n",
       "2  spaCy excels at large-scale information extrac...   \n",
       "\n",
       "                                 type  \n",
       "0  <class 'spacy.tokens.token.Token'>  \n",
       "1    <class 'spacy.tokens.span.Span'>  \n",
       "2      <class 'spacy.tokens.doc.Doc'>  "
      ]
     },
     "execution_count": 8,
     "metadata": {},
     "output_type": "execute_result"
    }
   ],
   "source": [
    "import pandas as pd\n",
    "def info(obj):\n",
    "    return {'type':type(obj),'__str__': str(obj)}\n",
    "\n",
    "text = u\"\"\"spaCy excels at large-scale information extraction tasks. \n",
    "It's written from the ground up in carefully memory-managed Cython. \"\"\"\n",
    "document = nlp(text)\n",
    "token = document[0]\n",
    "span = document[0:3]\n",
    "\n",
    "pd.DataFrame(list(map(info, [token,span,document])))"
   ]
  },
  {
   "cell_type": "markdown",
   "metadata": {
    "_datascience": {}
   },
   "source": [
    "### Sentence boundary detection"
   ]
  },
  {
   "cell_type": "code",
   "execution_count": 15,
   "metadata": {
    "_datascience": {},
    "collapsed": false
   },
   "outputs": [
    {
     "name": "stdout",
     "output_type": "stream",
     "text": [
      "[spaCy excels at large-scale information extraction tasks. \n",
      ", It's written from the ground up in carefully memory-managed Cython.]\n",
      "\n",
      " 0: \"spaCy excels at large-scale information extraction tasks. \n",
      "\"\n",
      " 1: \"It's written from the ground up in carefully memory-managed Cython.\"\n"
     ]
    }
   ],
   "source": [
    "print(list(document.sents))\n",
    "print()\n",
    "for i, sent in enumerate(document.sents):\n",
    "    print('%2d: \"%s\"' % (i, sent))"
   ]
  },
  {
   "cell_type": "markdown",
   "metadata": {
    "_datascience": {}
   },
   "source": [
    "### Tokenization"
   ]
  },
  {
   "cell_type": "code",
   "execution_count": 17,
   "metadata": {
    "_datascience": {},
    "collapsed": false
   },
   "outputs": [
    {
     "name": "stdout",
     "output_type": "stream",
     "text": [
      " 0: \"spaCy\"\n",
      " 1: \"excels\"\n",
      " 2: \"at\"\n",
      " 3: \"large\"\n",
      " 4: \"-\"\n",
      " 5: \"scale\"\n",
      " 6: \"information\"\n",
      " 7: \"extraction\"\n",
      " 8: \"tasks\"\n",
      " 9: \".\"\n",
      "10: \"\n",
      "\"\n",
      "11: \"It\"\n",
      "12: \"'s\"\n",
      "13: \"written\"\n",
      "14: \"from\"\n",
      "15: \"the\"\n",
      "16: \"ground\"\n",
      "17: \"up\"\n",
      "18: \"in\"\n",
      "19: \"carefully\"\n",
      "20: \"memory\"\n",
      "21: \"-\"\n",
      "22: \"managed\"\n",
      "23: \"Cython\"\n",
      "24: \".\"\n"
     ]
    }
   ],
   "source": [
    "for i, token in enumerate(document):\n",
    "    print('%2d: \"%s\"' % (i, token))"
   ]
  },
  {
   "cell_type": "markdown",
   "metadata": {
    "_datascience": {}
   },
   "source": [
    "### Morphological decomposition"
   ]
  },
  {
   "cell_type": "code",
   "execution_count": 18,
   "metadata": {
    "_datascience": {},
    "collapsed": false
   },
   "outputs": [
    {
     "name": "stdout",
     "output_type": "stream",
     "text": [
      "text: written\n",
      "suffix: ten\n",
      "lemma: write\n"
     ]
    }
   ],
   "source": [
    "token = document[13]\n",
    "print(\"text: %s\" % token.text)\n",
    "print(\"suffix: %s\" % token.suffix_)\n",
    "print(\"lemma: %s\" % token.lemma_)"
   ]
  },
  {
   "cell_type": "markdown",
   "metadata": {
    "_datascience": {}
   },
   "source": [
    "### Part of Speech Tagging"
   ]
  },
  {
   "cell_type": "code",
   "execution_count": 19,
   "metadata": {
    "_datascience": {},
    "collapsed": false
   },
   "outputs": [
    {
     "data": {
      "text/html": [
       "<div>\n",
       "<style>\n",
       "    .dataframe thead tr:only-child th {\n",
       "        text-align: right;\n",
       "    }\n",
       "\n",
       "    .dataframe thead th {\n",
       "        text-align: left;\n",
       "    }\n",
       "\n",
       "    .dataframe tbody tr th {\n",
       "        vertical-align: top;\n",
       "    }\n",
       "</style>\n",
       "<table border=\"1\" class=\"dataframe\">\n",
       "  <thead>\n",
       "    <tr style=\"text-align: right;\">\n",
       "      <th></th>\n",
       "      <th>Dependency</th>\n",
       "      <th>part of speech</th>\n",
       "      <th>token</th>\n",
       "    </tr>\n",
       "  </thead>\n",
       "  <tbody>\n",
       "    <tr>\n",
       "      <th>0</th>\n",
       "      <td>nsubj</td>\n",
       "      <td>NOUN</td>\n",
       "      <td>spaCy</td>\n",
       "    </tr>\n",
       "    <tr>\n",
       "      <th>1</th>\n",
       "      <td>ROOT</td>\n",
       "      <td>VERB</td>\n",
       "      <td>excels</td>\n",
       "    </tr>\n",
       "    <tr>\n",
       "      <th>2</th>\n",
       "      <td>prep</td>\n",
       "      <td>ADP</td>\n",
       "      <td>at</td>\n",
       "    </tr>\n",
       "    <tr>\n",
       "      <th>3</th>\n",
       "      <td>amod</td>\n",
       "      <td>ADJ</td>\n",
       "      <td>large</td>\n",
       "    </tr>\n",
       "    <tr>\n",
       "      <th>4</th>\n",
       "      <td>punct</td>\n",
       "      <td>PUNCT</td>\n",
       "      <td>-</td>\n",
       "    </tr>\n",
       "    <tr>\n",
       "      <th>5</th>\n",
       "      <td>compound</td>\n",
       "      <td>NOUN</td>\n",
       "      <td>scale</td>\n",
       "    </tr>\n",
       "    <tr>\n",
       "      <th>6</th>\n",
       "      <td>compound</td>\n",
       "      <td>NOUN</td>\n",
       "      <td>information</td>\n",
       "    </tr>\n",
       "    <tr>\n",
       "      <th>7</th>\n",
       "      <td>compound</td>\n",
       "      <td>NOUN</td>\n",
       "      <td>extraction</td>\n",
       "    </tr>\n",
       "    <tr>\n",
       "      <th>8</th>\n",
       "      <td>pobj</td>\n",
       "      <td>NOUN</td>\n",
       "      <td>tasks</td>\n",
       "    </tr>\n",
       "    <tr>\n",
       "      <th>9</th>\n",
       "      <td>punct</td>\n",
       "      <td>PUNCT</td>\n",
       "      <td>.</td>\n",
       "    </tr>\n",
       "    <tr>\n",
       "      <th>10</th>\n",
       "      <td></td>\n",
       "      <td>SPACE</td>\n",
       "      <td>\\n</td>\n",
       "    </tr>\n",
       "    <tr>\n",
       "      <th>11</th>\n",
       "      <td>nsubjpass</td>\n",
       "      <td>PRON</td>\n",
       "      <td>It</td>\n",
       "    </tr>\n",
       "    <tr>\n",
       "      <th>12</th>\n",
       "      <td>auxpass</td>\n",
       "      <td>VERB</td>\n",
       "      <td>'s</td>\n",
       "    </tr>\n",
       "    <tr>\n",
       "      <th>13</th>\n",
       "      <td>ROOT</td>\n",
       "      <td>VERB</td>\n",
       "      <td>written</td>\n",
       "    </tr>\n",
       "    <tr>\n",
       "      <th>14</th>\n",
       "      <td>prep</td>\n",
       "      <td>ADP</td>\n",
       "      <td>from</td>\n",
       "    </tr>\n",
       "    <tr>\n",
       "      <th>15</th>\n",
       "      <td>det</td>\n",
       "      <td>DET</td>\n",
       "      <td>the</td>\n",
       "    </tr>\n",
       "    <tr>\n",
       "      <th>16</th>\n",
       "      <td>pobj</td>\n",
       "      <td>NOUN</td>\n",
       "      <td>ground</td>\n",
       "    </tr>\n",
       "    <tr>\n",
       "      <th>17</th>\n",
       "      <td>prt</td>\n",
       "      <td>ADV</td>\n",
       "      <td>up</td>\n",
       "    </tr>\n",
       "    <tr>\n",
       "      <th>18</th>\n",
       "      <td>prep</td>\n",
       "      <td>ADP</td>\n",
       "      <td>in</td>\n",
       "    </tr>\n",
       "    <tr>\n",
       "      <th>19</th>\n",
       "      <td>advmod</td>\n",
       "      <td>ADV</td>\n",
       "      <td>carefully</td>\n",
       "    </tr>\n",
       "    <tr>\n",
       "      <th>20</th>\n",
       "      <td>npadvmod</td>\n",
       "      <td>NOUN</td>\n",
       "      <td>memory</td>\n",
       "    </tr>\n",
       "    <tr>\n",
       "      <th>21</th>\n",
       "      <td>punct</td>\n",
       "      <td>PUNCT</td>\n",
       "      <td>-</td>\n",
       "    </tr>\n",
       "    <tr>\n",
       "      <th>22</th>\n",
       "      <td>dep</td>\n",
       "      <td>VERB</td>\n",
       "      <td>managed</td>\n",
       "    </tr>\n",
       "    <tr>\n",
       "      <th>23</th>\n",
       "      <td>npadvmod</td>\n",
       "      <td>PROPN</td>\n",
       "      <td>Cython</td>\n",
       "    </tr>\n",
       "    <tr>\n",
       "      <th>24</th>\n",
       "      <td>punct</td>\n",
       "      <td>PUNCT</td>\n",
       "      <td>.</td>\n",
       "    </tr>\n",
       "  </tbody>\n",
       "</table>\n",
       "</div>"
      ],
      "text/plain": [
       "   Dependency part of speech        token\n",
       "0       nsubj           NOUN        spaCy\n",
       "1        ROOT           VERB       excels\n",
       "2        prep            ADP           at\n",
       "3        amod            ADJ        large\n",
       "4       punct          PUNCT            -\n",
       "5    compound           NOUN        scale\n",
       "6    compound           NOUN  information\n",
       "7    compound           NOUN   extraction\n",
       "8        pobj           NOUN        tasks\n",
       "9       punct          PUNCT            .\n",
       "10                     SPACE           \\n\n",
       "11  nsubjpass           PRON           It\n",
       "12    auxpass           VERB           's\n",
       "13       ROOT           VERB      written\n",
       "14       prep            ADP         from\n",
       "15        det            DET          the\n",
       "16       pobj           NOUN       ground\n",
       "17        prt            ADV           up\n",
       "18       prep            ADP           in\n",
       "19     advmod            ADV    carefully\n",
       "20   npadvmod           NOUN       memory\n",
       "21      punct          PUNCT            -\n",
       "22        dep           VERB      managed\n",
       "23   npadvmod          PROPN       Cython\n",
       "24      punct          PUNCT            ."
      ]
     },
     "execution_count": 19,
     "metadata": {},
     "output_type": "execute_result"
    }
   ],
   "source": [
    "#Part of speech and Dependency tagging\n",
    "attrs = list(map(lambda token: {\n",
    "                     \"token\":token,\n",
    "                     \"part of speech\":token.pos_,\n",
    "                     \"Dependency\" : token.dep_},\n",
    "                     document))\n",
    "pd.DataFrame(attrs)"
   ]
  },
  {
   "cell_type": "markdown",
   "metadata": {
    "_datascience": {}
   },
   "source": [
    "### Noun Chunking"
   ]
  },
  {
   "cell_type": "code",
   "execution_count": 20,
   "metadata": {
    "_datascience": {},
    "collapsed": false
   },
   "outputs": [
    {
     "name": "stdout",
     "output_type": "stream",
     "text": [
      "noun chunks: [spaCy, large-scale information extraction tasks, It, the ground]\n"
     ]
    }
   ],
   "source": [
    "print(\"noun chunks: %s\" % list(document.noun_chunks))"
   ]
  },
  {
   "cell_type": "markdown",
   "metadata": {
    "_datascience": {}
   },
   "source": [
    "### Named Entity Recognition"
   ]
  },
  {
   "cell_type": "code",
   "execution_count": 21,
   "metadata": {
    "_datascience": {},
    "collapsed": false
   },
   "outputs": [
    {
     "name": "stdout",
     "output_type": "stream",
     "text": [
      "entities: [(Cython, 'ORG')]\n"
     ]
    }
   ],
   "source": [
    "ents = [(ent, ent.root.ent_type_) for ent in document.ents]\n",
    "print(\"entities: %s\" % ents)"
   ]
  },
  {
   "cell_type": "markdown",
   "metadata": {
    "_datascience": {}
   },
   "source": [
    "### Text Similarity (Using Word Vectors)"
   ]
  },
  {
   "cell_type": "code",
   "execution_count": 23,
   "metadata": {
    "_datascience": {},
    "collapsed": false
   },
   "outputs": [
    {
     "data": {
      "image/png": "[encoded data removed]",
      "text/plain": [
       "<matplotlib.figure.Figure at 0x1303445f8>"
      ]
     },
     "metadata": {},
     "output_type": "display_data"
    }
   ],
   "source": [
    "#document, span, and token similarity\n",
    "def plot_similarities(similarities, target):\n",
    "    import matplotlib.pyplot as plt\n",
    "    %matplotlib inline\n",
    "    f, ax = plt.subplots(1)\n",
    "    index = range(len(similarities))\n",
    "    ax.barh(index, similarities)\n",
    "    ax.set_yticks([i + 0. for i in index])\n",
    "    ax.set_yticklabels(document2)\n",
    "    ax.grid(axis='x')\n",
    "    ax.set_title(\"Similarity to '{}'\".format(target))\n",
    "    plt.show()\n",
    "    return ax\n",
    "    \n",
    "computer = nlp(u'computer')\n",
    "document2 = nlp(u'You might be using a machine running Windows')\n",
    "similarities = list(map(lambda token: token.similarity(computer), document2))\n",
    "ax = plot_similarities(similarities, computer) "
   ]
  }
 ],
 "metadata": {
  "_datascience": {
   "notebookId": 747
  },
  "kernelspec": {
   "display_name": "Python 3",
   "language": "python",
   "name": "python3"
  },
  "language_info": {
   "codemirror_mode": {
    "name": "ipython",
    "version": 3
   },
   "file_extension": ".py",
   "mimetype": "text/x-python",
   "name": "python",
   "nbconvert_exporter": "python",
   "pygments_lexer": "ipython3",
   "version": "3.5.1"
  }
 },
 "nbformat": 4,
 "nbformat_minor": 2
}
